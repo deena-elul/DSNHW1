{
 "cells": [
  {
   "cell_type": "code",
   "execution_count": 1,
   "metadata": {
    "colab": {
     "base_uri": "https://localhost:8080/",
     "height": 339
    },
    "id": "g68lQ6g2ILnT",
    "outputId": "a4b57621-5e9b-4f00-defe-3a0bc31edf7c"
   },
   "outputs": [],
   "source": [
    "from __future__ import division\n",
    "from neuron import h\n",
    "from neuron import gui"
   ]
  },
  {
   "cell_type": "code",
   "execution_count": 2,
   "metadata": {
    "id": "g-LOaLmXJKDv"
   },
   "outputs": [],
   "source": [
    "# create model neuron\n",
    "soma = h.Section(name='soma')\n",
    "soma.L    = 20 # the length of the soma, in microns\n",
    "soma.diam = 20 # the diameter of the soma, in microns\n",
    "soma.insert('pas')\n",
    "soma.g_pas = 5E-5 # specific membrane conductance\n",
    "soma.e_pas = -70  # resting potential (mV)"
   ]
  },
  {
   "cell_type": "code",
   "execution_count": 53,
   "metadata": {
    "id": "jSbcO3l6kM-n"
   },
   "outputs": [],
   "source": [
    "# Set up a current clamp \n",
    "stim = h.IClamp(soma(0.5))\n",
    "stim.delay = 100 # start of the current injection (ms)\n",
    "stim.dur   = 500 # current pulse duration (ms)\n",
    "\n",
    "# Set standard simulation parameters\n",
    "h.v_init = soma.e_pas # Starting voltage (mV)\n",
    "h.tstop = 500 # End time for simulation (ms)\n",
    "\n",
    "# We run the experiment at varying current amplitudes\n",
    "amplitudes_pos = [0.01, 0.03, 0.05, 0.07, 0.1] # current amplitudes (nA)\n",
    "amplitudes_neg = [-0.01, -0.03, -0.05, -0.07, -0.1]"
   ]
  },
  {
   "cell_type": "code",
   "execution_count": 48,
   "metadata": {
    "id": "fzj7YebToJoO"
   },
   "outputs": [
    {
     "name": "stdout",
     "output_type": "stream",
     "text": [
      "16001\n",
      "-54.08451059908106\n",
      "16001\n",
      "-22.253531797243127\n",
      "16001\n",
      "9.577447004594834\n",
      "16001\n",
      "41.40842580643275\n",
      "16001\n",
      "89.15489400918969\n"
     ]
    }
   ],
   "source": [
    "# Simulation loop \n",
    "meas_voltages = []\n",
    "for a in amplitudes_pos:\n",
    "    # Set the current amplitude\n",
    "    stim.amp   = a \n",
    "\n",
    "    # Set up a recording vector \n",
    "    soma_v = h.Vector()\n",
    "    soma_v.record(soma(0.5)._ref_v)\n",
    "\n",
    "    t = h.Vector()\n",
    "    t.record(h._ref_t)\n",
    "\n",
    "    # Initialize and run the simulation \n",
    "    h.finitialize()\n",
    "    h.run()\n",
    "\n",
    "    # Extract the voltage at the time point of interest (400 ms)\n",
    "    time = t.indwhere('>',400)  # find the index at the first time point > 400 ms\n",
    "    voltage_400 = soma_v[time]  # extract the voltage at this index\n",
    "    meas_voltages.append(voltage_400)"
   ]
  },
  {
   "cell_type": "code",
   "execution_count": 55,
   "metadata": {
    "id": "DnSFj_lhqJ4C"
   },
   "outputs": [
    {
     "name": "stdout",
     "output_type": "stream",
     "text": [
      "-85.91548940091917\n",
      "-117.7464682027569\n",
      "-149.57744700459477\n",
      "-181.40842580643283\n",
      "-229.15489400919\n"
     ]
    }
   ],
   "source": [
    "# Repeat procedure with negative current injections\n",
    "meas_voltages_neg = []\n",
    "for b in amplitudes_neg:\n",
    "\n",
    "    # Set the current amplitude\n",
    "    stim.amp   = b \n",
    "\n",
    "     # Set up a recording vector \n",
    "    soma_v = h.Vector()\n",
    "    soma_v.record(soma(0.5)._ref_v)\n",
    "\n",
    "    t = h.Vector()\n",
    "    t.record(h._ref_t)\n",
    "\n",
    "    # Initialize and run the simulation \n",
    "    h.finitialize()\n",
    "    h.run()\n",
    "    \n",
    "    # Extract the voltage at the time point of interest (400 ms)\n",
    "    time = t.indwhere('>',400)  # find the index at the first time point > 400 ms\n",
    "    voltage_400 = soma_v[time]  # extract the voltage at this index\n",
    "    print(voltage_400)\n",
    "    meas_voltages_neg.append(voltage_400)"
   ]
  },
  {
   "cell_type": "code",
   "execution_count": 49,
   "metadata": {},
   "outputs": [
    {
     "name": "stdout",
     "output_type": "stream",
     "text": [
      "[]\n"
     ]
    }
   ],
   "source": []
  },
  {
   "cell_type": "code",
   "execution_count": null,
   "metadata": {},
   "outputs": [],
   "source": []
  }
 ],
 "metadata": {
  "colab": {
   "collapsed_sections": [],
   "name": "DNSHW1.ipynb",
   "provenance": []
  },
  "kernelspec": {
   "display_name": "Python 3",
   "language": "python",
   "name": "python3"
  },
  "language_info": {
   "codemirror_mode": {
    "name": "ipython",
    "version": 3
   },
   "file_extension": ".py",
   "mimetype": "text/x-python",
   "name": "python",
   "nbconvert_exporter": "python",
   "pygments_lexer": "ipython3",
   "version": "3.8.8"
  }
 },
 "nbformat": 4,
 "nbformat_minor": 1
}
